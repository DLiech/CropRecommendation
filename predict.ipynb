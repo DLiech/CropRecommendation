{
 "cells": [
  {
   "cell_type": "markdown",
   "metadata": {},
   "source": [
    "__This notebook is for predicting crop recommendation. Training model is on main notebook.__"
   ]
  },
  {
   "cell_type": "code",
   "execution_count": 15,
   "metadata": {},
   "outputs": [],
   "source": [
    "import pickle\n",
    "import numpy as np\n",
    "import warnings"
   ]
  },
  {
   "cell_type": "code",
   "execution_count": 16,
   "metadata": {},
   "outputs": [],
   "source": [
    "warnings.filterwarnings(\"ignore\")"
   ]
  },
  {
   "cell_type": "code",
   "execution_count": 9,
   "metadata": {},
   "outputs": [],
   "source": [
    "crop_dict = { \n",
    "    'rice': 1,\n",
    "    'maize': 2,\n",
    "    'jute': 3,\n",
    "    'cotton': 4,\n",
    "    'coconut': 5,\n",
    "    'papaya': 6,\n",
    "    'orange': 7,\n",
    "    'apple': 8,\n",
    "    'muskmelon': 9,\n",
    "    'watermelon': 10,\n",
    "    'grapes': 11,\n",
    "    'mango': 12,\n",
    "    'banana': 13,\n",
    "    'pomegranate': 14,\n",
    "    'lentil': 15,\n",
    "    'blackgram': 16,\n",
    "    'mungbean': 17,\n",
    "    'mothbeans': 18,\n",
    "    'pigeonpeas': 19,\n",
    "    'kidneybeans': 20,\n",
    "    'chickpea': 21,\n",
    "    'coffee': 22\n",
    "}"
   ]
  },
  {
   "cell_type": "code",
   "execution_count": 18,
   "metadata": {},
   "outputs": [],
   "source": [
    "# Create a reverse dictionary\n",
    "reverse_crop_dict = {value: key for key, value in crop_dict.items()}"
   ]
  },
  {
   "cell_type": "code",
   "execution_count": 10,
   "metadata": {},
   "outputs": [],
   "source": [
    "# Choose the model\n",
    "model_path = 'Model/Random Forest_model.pkl'"
   ]
  },
  {
   "cell_type": "code",
   "execution_count": 11,
   "metadata": {},
   "outputs": [],
   "source": [
    "# Load the trained model from the pickle file\n",
    "with open(model_path, 'rb') as file:\n",
    "    model = pickle.load(file)"
   ]
  },
  {
   "cell_type": "code",
   "execution_count": 12,
   "metadata": {},
   "outputs": [],
   "source": [
    "def get_user_input():\n",
    "    N = float(input(\"Enter the value for N: \"))\n",
    "    P = float(input(\"Enter the value for P: \"))\n",
    "    K = float(input(\"Enter the value for K: \"))\n",
    "    temperature = float(input(\"Enter the temperature: \"))\n",
    "    humidity = float(input(\"Enter the humidity: \"))\n",
    "    ph = float(input(\"Enter the pH: \"))\n",
    "    rainfall = float(input(\"Enter the rainfall: \"))\n",
    "\n",
    "    return N, P, K, temperature, humidity, ph, rainfall\n",
    "\n",
    "def calculate_ratios(N, P, K):\n",
    "    ratio_N_P = N / P if P != 0 else 0\n",
    "    ratio_P_K = P / K if K != 0 else 0\n",
    "    ratio_K_N = K / N if N != 0 else 0\n",
    "    return ratio_N_P, ratio_P_K, ratio_K_N"
   ]
  },
  {
   "cell_type": "code",
   "execution_count": 19,
   "metadata": {},
   "outputs": [
    {
     "name": "stdout",
     "output_type": "stream",
     "text": [
      "The suggested crop is: orange\n"
     ]
    }
   ],
   "source": [
    "# Get user input\n",
    "N, P, K, temperature, humidity, ph, rainfall = get_user_input()\n",
    "\n",
    "# Calculate the ratios\n",
    "ratio_N_P, ratio_P_K, ratio_K_N = calculate_ratios(N, P, K)\n",
    "\n",
    "# Prepare the input for the model\n",
    "input_features = [N, P, K, temperature, humidity, ph, rainfall, ratio_N_P, ratio_P_K, ratio_K_N]\n",
    "\n",
    "# Convert the input to the appropriate format (e.g., numpy array, pandas DataFrame, etc.)\n",
    "input_array = np.array([input_features])\n",
    "\n",
    "# Make prediction\n",
    "predicted_crop_label = model.predict(input_array)\n",
    "predicted_crop_name = reverse_crop_dict[predicted_crop_label[0]]\n",
    "\n",
    "print(f\"The suggested crop is: {predicted_crop_name}\")"
   ]
  }
 ],
 "metadata": {
  "kernelspec": {
   "display_name": "Python 3",
   "language": "python",
   "name": "python3"
  },
  "language_info": {
   "codemirror_mode": {
    "name": "ipython",
    "version": 3
   },
   "file_extension": ".py",
   "mimetype": "text/x-python",
   "name": "python",
   "nbconvert_exporter": "python",
   "pygments_lexer": "ipython3",
   "version": "3.10.6"
  }
 },
 "nbformat": 4,
 "nbformat_minor": 2
}
